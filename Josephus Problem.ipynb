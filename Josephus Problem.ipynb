{
 "cells": [
  {
   "cell_type": "code",
   "execution_count": 1,
   "id": "5eec1237",
   "metadata": {},
   "outputs": [],
   "source": [
    "# The Josephus Problem - Death Circle\n",
    "# N = Number of people\n",
    "#k = First person to be killed\n",
    "#k - 1 = persons are skipped\n",
    "\n",
    "def josephusProblem(N, k):\n",
    "    #if N is 1, irrespective of k the answer is 1\n",
    "    if (N == 1):\n",
    "        return 1\n",
    "    #reducing the problem to N - 1 and adjusting the position\n",
    "    else:\n",
    "        return (josephusProblem(N - 1, k) + k - 1) % N + 1\n"
   ]
  },
  {
   "cell_type": "code",
   "execution_count": 2,
   "id": "a5685246",
   "metadata": {},
   "outputs": [
    {
     "name": "stdout",
     "output_type": "stream",
     "text": [
      "Enter the number of people: 100\n",
      "Enter the value of k: 2\n"
     ]
    }
   ],
   "source": [
    "#Insert your inputs\n",
    "N = int(input(\"Enter the number of people: \"))\n",
    "k = int(input(\"Enter the value of k: \"))"
   ]
  },
  {
   "cell_type": "code",
   "execution_count": 3,
   "id": "d5fbb10a",
   "metadata": {},
   "outputs": [
    {
     "name": "stdout",
     "output_type": "stream",
     "text": [
      "The safe position for the  Josephus Problem is:  73\n"
     ]
    }
   ],
   "source": [
    "#the person to get his freedom\n",
    "Output = josephusProblem(N, k)\n",
    "print(\"The safe position for the  Josephus Problem is: \", Output)"
   ]
  },
  {
   "cell_type": "code",
   "execution_count": null,
   "id": "f11b8637",
   "metadata": {},
   "outputs": [],
   "source": []
  }
 ],
 "metadata": {
  "kernelspec": {
   "display_name": "Python 3 (ipykernel)",
   "language": "python",
   "name": "python3"
  },
  "language_info": {
   "codemirror_mode": {
    "name": "ipython",
    "version": 3
   },
   "file_extension": ".py",
   "mimetype": "text/x-python",
   "name": "python",
   "nbconvert_exporter": "python",
   "pygments_lexer": "ipython3",
   "version": "3.9.12"
  }
 },
 "nbformat": 4,
 "nbformat_minor": 5
}
